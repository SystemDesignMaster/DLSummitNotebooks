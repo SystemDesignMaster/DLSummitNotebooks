
{
 "cells": [
  {
   "cell_type": "code",
   "execution_count": 1,
   "metadata": {},
   "outputs": [],
   "source": [
    "import matplotlib.pyplot as plt\n",
    "import imageio\n",
    "import glob"
   ]
  },
  {
   "cell_type": "code",
   "execution_count": 2,
   "metadata": {},
   "outputs": [],
   "source": [
    "# set path here\n",
    "feature_vis_path = 'data/feature-vis/inceptionV1/'\n",
    "filepaths = sorted(glob.glob(feature_vis_path + '*.jpg'))"
   ]
  },
  {
   "cell_type": "code",
   "execution_count": 3,
   "metadata": {},
   "outputs": [
    {
     "data": {
      "text/plain": [
       "553"
      ]
     },
     "execution_count": 3,
     "metadata": {},
     "output_type": "execute_result"
    }
   ],
   "source": [
    "len(filepaths)"
   ]
  },
  {
   "cell_type": "code",
   "execution_count": 4,
   "metadata": {},
   "outputs": [],
   "source": [
    "sw = 147 # sprite width and height\n",
    "dw = 74 # dataset example width and height, top row is 74x74, bottom row is 74x73, but we make all 73x73\n",
    "image_type = '.jpg'"
   ]
  },
  {
   "cell_type": "code",
   "execution_count": null,
   "metadata": {},
   "outputs": [],
   "source": [
    "for filepath in filepaths:\n",
    "    print(filepath)\n",
    "    layer = filepath.split(feature_vis_path)[1][0:7]\n",
    "    ch = int(filepath.split(feature_vis_path)[1][8:13])\n",
    "    # print(layer)\n",