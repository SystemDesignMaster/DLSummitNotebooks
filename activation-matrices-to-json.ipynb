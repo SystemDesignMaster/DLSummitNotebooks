
{
 "cells": [
  {
   "cell_type": "code",
   "execution_count": 1,
   "metadata": {},
   "outputs": [],
   "source": [
    "import numpy as np\n",
    "import matplotlib.pyplot as plt\n",
    "import json\n",
    "import umap"
   ]
  },
  {
   "cell_type": "code",
   "execution_count": 2,
   "metadata": {},
   "outputs": [],
   "source": [
    "with open('data/synset.txt') as f:\n",
    "    synset = f.readlines()\n",
    "synset = [x.strip() for x in synset] \n",
    "synset = [x.split(' ') for x in synset]"
   ]
  },
  {
   "cell_type": "code",
   "execution_count": 3,
   "metadata": {},
   "outputs": [
    {
     "data": {
      "text/plain": [
       "['n02119789', '1', 'kit_fox']"
      ]
     },
     "execution_count": 3,
     "metadata": {},
     "output_type": "execute_result"
    }
   ],
   "source": [
    "synset[0]"
   ]
  },
  {
   "cell_type": "code",
   "execution_count": 4,
   "metadata": {},
   "outputs": [],
   "source": [
    "with open('data/imagenet_2012_challenge_label_map_proto_edited.json') as f:\n",
    "    synset_target_mapping = json.load(f)"
   ]
  },