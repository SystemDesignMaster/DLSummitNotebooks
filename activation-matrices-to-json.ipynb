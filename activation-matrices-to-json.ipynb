
{
 "cells": [
  {
   "cell_type": "code",
   "execution_count": 1,
   "metadata": {},
   "outputs": [],
   "source": [
    "import numpy as np\n",
    "import matplotlib.pyplot as plt\n",
    "import json\n",
    "import umap"
   ]
  },
  {
   "cell_type": "code",
   "execution_count": 2,
   "metadata": {},
   "outputs": [],
   "source": [
    "with open('data/synset.txt') as f:\n",
    "    synset = f.readlines()\n",
    "synset = [x.strip() for x in synset] \n",
    "synset = [x.split(' ') for x in synset]"
   ]
  },
  {
   "cell_type": "code",
   "execution_count": 3,
   "metadata": {},
   "outputs": [
    {
     "data": {
      "text/plain": [
       "['n02119789', '1', 'kit_fox']"
      ]
     },
     "execution_count": 3,
     "metadata": {},
     "output_type": "execute_result"
    }
   ],
   "source": [
    "synset[0]"
   ]
  },
  {
   "cell_type": "code",
   "execution_count": 4,
   "metadata": {},
   "outputs": [],
   "source": [
    "with open('data/imagenet_2012_challenge_label_map_proto_edited.json') as f:\n",
    "    synset_target_mapping = json.load(f)"
   ]
  },
  {
   "cell_type": "code",
   "execution_count": 5,
   "metadata": {},
   "outputs": [],
   "source": [
    "# synset_target_mapping"
   ]
  },
  {
   "cell_type": "code",
   "execution_count": 6,
   "metadata": {},
   "outputs": [],
   "source": [
    "target_synset_mapping = dict((v,k) for k,v in synset_target_mapping.items())"
   ]
  },
  {
   "cell_type": "code",
   "execution_count": 7,
   "metadata": {},
   "outputs": [],
   "source": [
    "# target_synset_mapping"
   ]
  },
  {
   "cell_type": "code",
   "execution_count": 8,
   "metadata": {},
   "outputs": [],
   "source": [
    "imagenet_dict_by_synset = {}\n",
    "for c in synset:\n",
    "    imagenet_dict_by_synset[c[0]] = {\n",
    "        'synset': c[0],\n",
    "        'label': c[1],\n",
    "        'name': c[2].lower(),\n",
    "        'topChannels': {},\n",
    "        'embed': {},\n",
    "        'accs': [],\n",
    "        'topOneAccCount': 0\n",
    "    }\n",
    "for i, c in enumerate(synset_target_mapping):\n",
    "    imagenet_dict_by_synset[c]['target_class'] = i"
   ]
  },
  {
   "cell_type": "code",
   "execution_count": 9,
   "metadata": {},
   "outputs": [],
   "source": [
    "# imagenet_dict_by_synset"
   ]
  },
  {
   "cell_type": "code",
   "execution_count": 10,
   "metadata": {},
   "outputs": [],
   "source": [
    "imagenet_dict_by_id = {}\n",
    "for c in imagenet_dict_by_synset:\n",
    "    imagenet_dict_by_id[imagenet_dict_by_synset[c]['label']] = imagenet_dict_by_synset[c]"
   ]
  },
  {
   "cell_type": "code",
   "execution_count": 11,
   "metadata": {
    "scrolled": true
   },
   "outputs": [
    {
     "data": {
      "text/plain": [
       "{'synset': 'n02119789',\n",
       " 'label': '1',\n",
       " 'name': 'kit_fox',\n",
       " 'topChannels': {},\n",
       " 'embed': {},\n",
       " 'accs': [],\n",
       " 'topOneAccCount': 0,\n",
       " 'target_class': 278}"
      ]
     },
     "execution_count": 11,
     "metadata": {},
     "output_type": "execute_result"
    }
   ],
   "source": [
    "imagenet_dict_by_id['1']"
   ]
  },
  {
   "cell_type": "code",
   "execution_count": 12,
   "metadata": {},
   "outputs": [],
   "source": [
    "# num_of_classes = 1000\n",
    "layers = [\n",
    "    'mixed3a',\n",
    "    'mixed3b',\n",
    "    'mixed4a',\n",
    "    'mixed4b',\n",
    "    'mixed4c',\n",
    "    'mixed4d',\n",
    "    'mixed4e',\n",
    "    'mixed5a',\n",
    "    'mixed5b'\n",
    "]"
   ]
  },
  {
   "cell_type": "code",
   "execution_count": 13,
   "metadata": {},
   "outputs": [],
   "source": [
    "A_prob_threshold = 0.01"
   ]
  },
  {
   "cell_type": "code",
   "execution_count": 14,
   "metadata": {},
   "outputs": [
    {
     "name": "stdout",
     "output_type": "stream",
     "text": [
      "mixed3a\n",
      "mixed3b\n",
      "mixed4a\n",
      "mixed4b\n",
      "mixed4c\n",
      "mixed4d\n",
      "mixed4e\n",
      "mixed5a\n",
      "mixed5b\n"
     ]
    }
   ],
   "source": [
    "for layer in layers:\n",
    "    print(layer)\n",
    "    \n",
    "    for c in imagenet_dict_by_id:\n",
    "        imagenet_dict_by_id[c]['topChannels'][layer] = []\n",
    "    \n",
    "    A = np.loadtxt('data/A-matrices/' + 'A-' + str(A_prob_threshold) + '-' + layer + '.csv', delimiter=',', dtype=int)\n",
    "    \n",
    "    for c in range(A.shape[0]):\n",
    "        for ch in range(A.shape[1]):\n",
    "#             if A[c][ch] != 0:\n",
    "            if A[int(imagenet_dict_by_id[str(c+1)]['target_class'])][ch] != 0:\n",
    "                imagenet_dict_by_id[str(c+1)]['topChannels'][layer].append(\n",
    "                    {\n",
    "                      'c': int(ch),\n",
    "                      'i': int(A[int(imagenet_dict_by_id[str(c+1)]['target_class'])][ch])\n",
    "                    }\n",
    "                )"
   ]
  },
  {
   "cell_type": "code",
   "execution_count": 15,
   "metadata": {},
   "outputs": [
    {
     "name": "stdout",
     "output_type": "stream",
     "text": [
      "mixed3a\n",
      "mixed3b\n",
      "mixed4a\n",
      "mixed4b\n",
      "mixed4c\n",
      "mixed4d\n",
      "mixed4e\n",
      "mixed5a\n",
      "mixed5b\n"
     ]
    }
   ],
   "source": [
    "for layer in layers:\n",
    "    print(layer)\n",
    "    \n",
    "    for c in imagenet_dict_by_id:\n",
    "        unsorted_channels = imagenet_dict_by_id[c]['topChannels'][layer]\n",
    "        sorted_channels = sorted(unsorted_channels, key=lambda k: k['i'], reverse=True)\n",
    "        imagenet_dict_by_id[c]['topChannels'][layer] = sorted_channels"
   ]
  },
  {
   "cell_type": "code",
   "execution_count": 16,
   "metadata": {
    "scrolled": false
   },
   "outputs": [
    {
     "name": "stdout",
     "output_type": "stream",
     "text": [
      "mixed3a\n",
      "(1000, 2)\n"
     ]
    },
    {
     "data": {
      "image/png": "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\n",
      "text/plain": [
       "<Figure size 432x288 with 1 Axes>"
      ]
     },
     "metadata": {
      "needs_background": "light"
     },
     "output_type": "display_data"
    },
    {
     "name": "stdout",
     "output_type": "stream",
     "text": [
      "mixed3b\n",
      "(1000, 2)\n"
     ]
    },
    {
     "data": {
      "image/png": "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\n",
      "text/plain": [
       "<Figure size 432x288 with 1 Axes>"
      ]
     },
     "metadata": {
      "needs_background": "light"
     },
     "output_type": "display_data"
    },
    {
     "name": "stdout",
     "output_type": "stream",
     "text": [
      "mixed4a\n",
      "(1000, 2)\n"
     ]
    },