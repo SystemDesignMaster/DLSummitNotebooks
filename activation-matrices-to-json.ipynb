
{
 "cells": [
  {
   "cell_type": "code",
   "execution_count": 1,
   "metadata": {},
   "outputs": [],
   "source": [
    "import numpy as np\n",
    "import matplotlib.pyplot as plt\n",
    "import json\n",
    "import umap"
   ]
  },
  {
   "cell_type": "code",
   "execution_count": 2,
   "metadata": {},
   "outputs": [],
   "source": [
    "with open('data/synset.txt') as f:\n",
    "    synset = f.readlines()\n",
    "synset = [x.strip() for x in synset] \n",
    "synset = [x.split(' ') for x in synset]"
   ]
  },
  {
   "cell_type": "code",
   "execution_count": 3,
   "metadata": {},
   "outputs": [
    {
     "data": {
      "text/plain": [
       "['n02119789', '1', 'kit_fox']"
      ]
     },
     "execution_count": 3,
     "metadata": {},
     "output_type": "execute_result"
    }
   ],
   "source": [
    "synset[0]"
   ]
  },
  {
   "cell_type": "code",
   "execution_count": 4,
   "metadata": {},
   "outputs": [],
   "source": [
    "with open('data/imagenet_2012_challenge_label_map_proto_edited.json') as f:\n",
    "    synset_target_mapping = json.load(f)"
   ]
  },
  {
   "cell_type": "code",
   "execution_count": 5,
   "metadata": {},
   "outputs": [],
   "source": [
    "# synset_target_mapping"
   ]
  },
  {
   "cell_type": "code",
   "execution_count": 6,
   "metadata": {},
   "outputs": [],
   "source": [
    "target_synset_mapping = dict((v,k) for k,v in synset_target_mapping.items())"
   ]
  },
  {
   "cell_type": "code",
   "execution_count": 7,
   "metadata": {},
   "outputs": [],
   "source": [
    "# target_synset_mapping"
   ]
  },
  {
   "cell_type": "code",
   "execution_count": 8,
   "metadata": {},
   "outputs": [],
   "source": [
    "imagenet_dict_by_synset = {}\n",
    "for c in synset:\n",
    "    imagenet_dict_by_synset[c[0]] = {\n",
    "        'synset': c[0],\n",
    "        'label': c[1],\n",
    "        'name': c[2].lower(),\n",
    "        'topChannels': {},\n",
    "        'embed': {},\n",
    "        'accs': [],\n",
    "        'topOneAccCount': 0\n",
    "    }\n",
    "for i, c in enumerate(synset_target_mapping):\n",
    "    imagenet_dict_by_synset[c]['target_class'] = i"
   ]
  },
  {
   "cell_type": "code",
   "execution_count": 9,
   "metadata": {},
   "outputs": [],
   "source": [
    "# imagenet_dict_by_synset"
   ]
  },
  {
   "cell_type": "code",
   "execution_count": 10,
   "metadata": {},
   "outputs": [],
   "source": [
    "imagenet_dict_by_id = {}\n",
    "for c in imagenet_dict_by_synset:\n",
    "    imagenet_dict_by_id[imagenet_dict_by_synset[c]['label']] = imagenet_dict_by_synset[c]"
   ]
  },
  {
   "cell_type": "code",
   "execution_count": 11,
   "metadata": {
    "scrolled": true
   },
   "outputs": [
    {
     "data": {
      "text/plain": [
       "{'synset': 'n02119789',\n",
       " 'label': '1',\n",
       " 'name': 'kit_fox',\n",
       " 'topChannels': {},\n",
       " 'embed': {},\n",
       " 'accs': [],\n",
       " 'topOneAccCount': 0,\n",
       " 'target_class': 278}"
      ]
     },
     "execution_count": 11,
     "metadata": {},
     "output_type": "execute_result"
    }
   ],
   "source": [
    "imagenet_dict_by_id['1']"
   ]
  },
  {
   "cell_type": "code",
   "execution_count": 12,
   "metadata": {},
   "outputs": [],
   "source": [
    "# num_of_classes = 1000\n",
    "layers = [\n",
    "    'mixed3a',\n",
    "    'mixed3b',\n",
    "    'mixed4a',\n",
    "    'mixed4b',\n",
    "    'mixed4c',\n",
    "    'mixed4d',\n",
    "    'mixed4e',\n",
    "    'mixed5a',\n",
    "    'mixed5b'\n",
    "]"
   ]
  },
  {
   "cell_type": "code",
   "execution_count": 13,
   "metadata": {},
   "outputs": [],
   "source": [
    "A_prob_threshold = 0.01"
   ]
  },
  {
   "cell_type": "code",
   "execution_count": 14,
   "metadata": {},
   "outputs": [
    {
     "name": "stdout",
     "output_type": "stream",
     "text": [
      "mixed3a\n",
      "mixed3b\n",
      "mixed4a\n",
      "mixed4b\n",
      "mixed4c\n",
      "mixed4d\n",
      "mixed4e\n",
      "mixed5a\n",
      "mixed5b\n"
     ]
    }
   ],
   "source": [
    "for layer in layers:\n",
    "    print(layer)\n",
    "    \n",
    "    for c in imagenet_dict_by_id:\n",
    "        imagenet_dict_by_id[c]['topChannels'][layer] = []\n",
    "    \n",
    "    A = np.loadtxt('data/A-matrices/' + 'A-' + str(A_prob_threshold) + '-' + layer + '.csv', delimiter=',', dtype=int)\n",
    "    \n",
    "    for c in range(A.shape[0]):\n",
    "        for ch in range(A.shape[1]):\n",
    "#             if A[c][ch] != 0:\n",
    "            if A[int(imagenet_dict_by_id[str(c+1)]['target_class'])][ch] != 0:\n",
    "                imagenet_dict_by_id[str(c+1)]['topChannels'][layer].append(\n",
    "                    {\n",
    "                      'c': int(ch),\n",
    "                      'i': int(A[int(imagenet_dict_by_id[str(c+1)]['target_class'])][ch])\n",
    "                    }\n",
    "                )"
   ]
  },