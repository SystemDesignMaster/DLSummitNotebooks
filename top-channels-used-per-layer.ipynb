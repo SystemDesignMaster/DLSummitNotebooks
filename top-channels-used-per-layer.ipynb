
{
 "cells": [
  {
   "cell_type": "code",
   "execution_count": 20,
   "metadata": {},
   "outputs": [],
   "source": [
    "import json\n",
    "import matplotlib.pyplot as plt\n",
    "import numpy as np"
   ]
  },
  {
   "cell_type": "code",
   "execution_count": 21,
   "metadata": {},
   "outputs": [],
   "source": [
    "layers = {\n",
    "    'mixed3a': 256,\n",
    "    'mixed3b': 480,\n",
    "    'mixed4a': 508,\n",
    "    'mixed4b': 512,\n",
    "    'mixed4c': 512,\n",
    "    'mixed4d': 528,\n",
    "    'mixed4e': 832,\n",
    "    'mixed5a': 832,\n",
    "    'mixed5b': 1024\n",
    "}\n",
    "\n",
    "with open('data/imagenet.json') as f:\n",
    "    imagenet = json.load(f)"
   ]
  },
  {
   "cell_type": "markdown",
   "metadata": {},
   "source": [
    "## Compute top channel usage statistics"
   ]
  },
  {
   "cell_type": "code",
   "execution_count": 22,
   "metadata": {},
   "outputs": [
    {
     "name": "stdout",
     "output_type": "stream",
     "text": [
      "mixed3a\n",
      "mixed3b\n",
      "mixed4a\n",
      "mixed4b\n",
      "mixed4c\n",
      "mixed4d\n",
      "mixed4e\n",
      "mixed5a\n",
      "mixed5b\n"
     ]
    }
   ],
   "source": [
    "top_channels = {}\n",
    "\n",
    "for layer in list(layers.keys()):\n",
    "    print(layer)\n",
    "    top_channels[layer] = {\n",
    "        'channels': layers[layer],\n",
    "        'channels_used': 0,\n",
    "        'channels_not_used': 0,\n",
    "        'percent_channels_used': 0\n",
    "    }\n",
    "    all_channels = []\n",
    "    \n",
    "    for c in imagenet:\n",
    "        for ch in c['topChannels'][layer]:\n",
    "            all_channels.append(ch['channel'])\n",
    "            \n",
    "    (channels, counts) = np.unique(all_channels, return_counts=True)\n",
    "    sorted_counts, sorted_channels = (list(t) for t in zip(*sorted(zip(counts, channels), reverse=True)))\n",
    "    \n",
    "    top_channels[layer]['channels_used'] = int(len(np.unique(sorted_channels)))\n",
    "    top_channels[layer]['channels_not_used'] = layers[layer] - top_channels[layer]['channels_used']\n",
    "    top_channels[layer]['percent_channels_used'] = top_channels[layer]['channels_used'] / layers[layer]"
   ]
  },
  {
   "cell_type": "code",
   "execution_count": 23,
   "metadata": {},
   "outputs": [
    {
     "name": "stdout",
     "output_type": "stream",
     "text": [
      "mixed3a\n",
      "{'channels': 256, 'channels_used': 140, 'channels_not_used': 116, 'percent_channels_used': 0.546875}\n",