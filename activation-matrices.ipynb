
{
 "cells": [
  {
   "cell_type": "code",
   "execution_count": 1,
   "metadata": {},
   "outputs": [
    {
     "name": "stderr",
     "output_type": "stream",
     "text": [
      "Using TensorFlow backend.\n"
     ]
    }
   ],
   "source": [
    "import glob\n",
    "import numpy as np\n",
    "import matplotlib.pyplot as plt\n",
    "import json\n",
    "\n",
    "import tensorflow as tf\n",
    "\n",
    "import lucid.modelzoo.vision_models as models\n",
    "from lucid.misc.io import show\n",
    "import lucid.optvis.objectives as objectives\n",
    "import lucid.optvis.param as param\n",
    "import lucid.optvis.render as render\n",
    "import lucid.optvis.transform as transform\n",
    "from keras.preprocessing import image\n",
    "from keras.applications.inception_v3 import preprocess_input\n",
    "import tqdm\n",
    "\n",
    "from scipy.stats import mode\n",
    "import scipy.misc\n",
    "import matplotlib.ticker as plticker\n",
    "\n",
    "import seaborn as sns\n",
    "\n",
    "from PIL import Image\n",
    "\n",
    "import time"
   ]
  },
  {
   "cell_type": "code",
   "execution_count": 2,
   "metadata": {},
   "outputs": [],
   "source": [
    "googlenet = models.InceptionV1()\n",
    "googlenet.load_graphdef()"
   ]
  },
  {
   "cell_type": "code",
   "execution_count": 3,
   "metadata": {},
   "outputs": [
    {
     "data": {
      "text/plain": [
       "[Layer (belonging to InceptionV1) <conv2d0: 64> ([{'conv'}]),\n",
       " Layer (belonging to InceptionV1) <conv2d1: 64> ([{'conv'}]),\n",
       " Layer (belonging to InceptionV1) <conv2d2: 192> ([{'conv'}]),\n",
       " Layer (belonging to InceptionV1) <mixed3a: 256> ([{'conv'}]),\n",
       " Layer (belonging to InceptionV1) <mixed3b: 480> ([{'conv'}]),\n",
       " Layer (belonging to InceptionV1) <mixed4a: 508> ([{'conv'}]),\n",
       " Layer (belonging to InceptionV1) <mixed4b: 512> ([{'conv'}]),\n",
       " Layer (belonging to InceptionV1) <mixed4c: 512> ([{'conv'}]),\n",
       " Layer (belonging to InceptionV1) <mixed4d: 528> ([{'conv'}]),\n",
       " Layer (belonging to InceptionV1) <mixed4e: 832> ([{'conv'}]),\n",
       " Layer (belonging to InceptionV1) <mixed5a: 832> ([{'conv'}]),\n",
       " Layer (belonging to InceptionV1) <mixed5b: 1024> ([{'conv'}]),\n",
       " Layer (belonging to InceptionV1) <head0_bottleneck: 128> ([{'conv'}]),\n",
       " Layer (belonging to InceptionV1) <nn0: 1024> ([{'dense'}]),\n",
       " Layer (belonging to InceptionV1) <softmax0: 1008> ([{'dense'}]),\n",
       " Layer (belonging to InceptionV1) <head1_bottleneck: 128> ([{'conv'}]),\n",
       " Layer (belonging to InceptionV1) <nn1: 1024> ([{'dense'}]),\n",
       " Layer (belonging to InceptionV1) <softmax1: 1008> ([{'dense'}]),\n",
       " Layer (belonging to InceptionV1) <softmax2: 1008> ([{'dense'}])]"
      ]
     },
     "execution_count": 3,
     "metadata": {},
     "output_type": "execute_result"
    }
   ],
   "source": [
    "googlenet.layers"
   ]
  },
  {
   "cell_type": "code",
   "execution_count": 4,
   "metadata": {},
   "outputs": [],
   "source": [
    "layers = {\n",
    "    'mixed3a': 256,\n",
    "    'mixed3b': 480,\n",
    "    'mixed4a': 508,\n",
    "    'mixed4b': 512,\n",
    "    'mixed4c': 512,\n",
    "    'mixed4d': 528,\n",
    "    'mixed4e': 832,\n",
    "    'mixed5a': 832,\n",
    "    'mixed5b': 1024\n",
    "}"
   ]
  },
  {